{
 "cells": [
  {
   "cell_type": "code",
   "execution_count": 1,
   "id": "2a55c72d",
   "metadata": {},
   "outputs": [],
   "source": [
    "import pandas as pd\n",
    "import numpy as np\n",
    "users = pd.read_csv(r'C:\\Users\\adity\\Downloads\\TakeHomeAssessment\\USER_TAKEHOME.csv')\n",
    "transactions = pd.read_csv(r'C:\\Users\\adity\\Downloads\\TakeHomeAssessment\\TRANSACTION_TAKEHOME.csv')\n",
    "products = pd.read_csv(r'C:\\Users\\adity\\Downloads\\TakeHomeAssessment\\PRODUCTS_TAKEHOME.csv')"
   ]
  },
  {
   "cell_type": "code",
   "execution_count": 2,
   "id": "5bd05ab8",
   "metadata": {
    "scrolled": true
   },
   "outputs": [
    {
     "name": "stdout",
     "output_type": "stream",
     "text": [
      "<class 'pandas.core.frame.DataFrame'>\n",
      "RangeIndex: 100000 entries, 0 to 99999\n",
      "Data columns (total 6 columns):\n",
      " #   Column        Non-Null Count   Dtype \n",
      "---  ------        --------------   ----- \n",
      " 0   ID            100000 non-null  object\n",
      " 1   CREATED_DATE  100000 non-null  object\n",
      " 2   BIRTH_DATE    96325 non-null   object\n",
      " 3   STATE         95188 non-null   object\n",
      " 4   LANGUAGE      69492 non-null   object\n",
      " 5   GENDER        94108 non-null   object\n",
      "dtypes: object(6)\n",
      "memory usage: 4.6+ MB\n",
      "None\n",
      "\n",
      "\n",
      "<class 'pandas.core.frame.DataFrame'>\n",
      "RangeIndex: 50000 entries, 0 to 49999\n",
      "Data columns (total 8 columns):\n",
      " #   Column          Non-Null Count  Dtype  \n",
      "---  ------          --------------  -----  \n",
      " 0   RECEIPT_ID      50000 non-null  object \n",
      " 1   PURCHASE_DATE   50000 non-null  object \n",
      " 2   SCAN_DATE       50000 non-null  object \n",
      " 3   STORE_NAME      50000 non-null  object \n",
      " 4   USER_ID         50000 non-null  object \n",
      " 5   BARCODE         44238 non-null  float64\n",
      " 6   FINAL_QUANTITY  50000 non-null  object \n",
      " 7   FINAL_SALE      50000 non-null  object \n",
      "dtypes: float64(1), object(7)\n",
      "memory usage: 3.1+ MB\n",
      "None\n",
      "\n",
      "\n",
      "<class 'pandas.core.frame.DataFrame'>\n",
      "RangeIndex: 845552 entries, 0 to 845551\n",
      "Data columns (total 7 columns):\n",
      " #   Column        Non-Null Count   Dtype  \n",
      "---  ------        --------------   -----  \n",
      " 0   CATEGORY_1    845441 non-null  object \n",
      " 1   CATEGORY_2    844128 non-null  object \n",
      " 2   CATEGORY_3    784986 non-null  object \n",
      " 3   CATEGORY_4    67459 non-null   object \n",
      " 4   MANUFACTURER  619078 non-null  object \n",
      " 5   BRAND         619080 non-null  object \n",
      " 6   BARCODE       841527 non-null  float64\n",
      "dtypes: float64(1), object(6)\n",
      "memory usage: 45.2+ MB\n",
      "None\n"
     ]
    }
   ],
   "source": [
    "print(users.info())\n",
    "print(\"\\n\")\n",
    "print(transactions.info())\n",
    "print(\"\\n\")\n",
    "print(products.info())"
   ]
  },
  {
   "cell_type": "code",
   "execution_count": 3,
   "id": "4d164e47",
   "metadata": {},
   "outputs": [
    {
     "name": "stdout",
     "output_type": "stream",
     "text": [
      "                         ID               CREATED_DATE  \\\n",
      "0  5ef3b4f17053ab141787697d  2020-06-24 20:17:54.000 Z   \n",
      "1  5ff220d383fcfc12622b96bc  2021-01-03 19:53:55.000 Z   \n",
      "2  6477950aa55bb77a0e27ee10  2023-05-31 18:42:18.000 Z   \n",
      "3  658a306e99b40f103b63ccf8  2023-12-26 01:46:22.000 Z   \n",
      "4  653cf5d6a225ea102b7ecdc2  2023-10-28 11:51:50.000 Z   \n",
      "\n",
      "                  BIRTH_DATE STATE LANGUAGE  GENDER  \n",
      "0  2000-08-11 00:00:00.000 Z    CA   es-419  female  \n",
      "1  2001-09-24 04:00:00.000 Z    PA       en  female  \n",
      "2  1994-10-28 00:00:00.000 Z    FL   es-419  female  \n",
      "3                        NaN    NC       en     NaN  \n",
      "4  1972-03-19 00:00:00.000 Z    PA       en  female  \n"
     ]
    }
   ],
   "source": [
    "print(users.head())"
   ]
  },
  {
   "cell_type": "code",
   "execution_count": 4,
   "id": "cb8e5aa9",
   "metadata": {},
   "outputs": [
    {
     "name": "stdout",
     "output_type": "stream",
     "text": [
      "                             RECEIPT_ID PURCHASE_DATE  \\\n",
      "0  0000d256-4041-4a3e-adc4-5623fb6e0c99    2024-08-21   \n",
      "1  0001455d-7a92-4a7b-a1d2-c747af1c8fd3    2024-07-20   \n",
      "2  00017e0a-7851-42fb-bfab-0baa96e23586    2024-08-18   \n",
      "3  000239aa-3478-453d-801e-66a82e39c8af    2024-06-18   \n",
      "4  00026b4c-dfe8-49dd-b026-4c2f0fd5c6a1    2024-07-04   \n",
      "\n",
      "                   SCAN_DATE STORE_NAME                   USER_ID  \\\n",
      "0  2024-08-21 14:19:06.539 Z    WALMART  63b73a7f3d310dceeabd4758   \n",
      "1  2024-07-20 09:50:24.206 Z       ALDI  62c08877baa38d1a1f6c211a   \n",
      "2  2024-08-19 15:38:56.813 Z    WALMART  60842f207ac8b7729e472020   \n",
      "3  2024-06-19 11:03:37.468 Z  FOOD LION  63fcd7cea4f8442c3386b589   \n",
      "4  2024-07-05 15:56:43.549 Z   RANDALLS  6193231ae9b3d75037b0f928   \n",
      "\n",
      "        BARCODE FINAL_QUANTITY FINAL_SALE  \n",
      "0  1.530001e+10           1.00             \n",
      "1           NaN           zero       1.49  \n",
      "2  7.874223e+10           1.00             \n",
      "3  7.833997e+11           zero       3.49  \n",
      "4  4.790050e+10           1.00             \n"
     ]
    }
   ],
   "source": [
    "print(transactions.head())"
   ]
  },
  {
   "cell_type": "code",
   "execution_count": 5,
   "id": "f0153a3b",
   "metadata": {},
   "outputs": [
    {
     "name": "stdout",
     "output_type": "stream",
     "text": [
      "          CATEGORY_1              CATEGORY_2                   CATEGORY_3  \\\n",
      "0  Health & Wellness           Sexual Health  Conductivity Gels & Lotions   \n",
      "1             Snacks           Puffed Snacks         Cheese Curls & Puffs   \n",
      "2  Health & Wellness               Hair Care        Hair Care Accessories   \n",
      "3  Health & Wellness               Oral Care                   Toothpaste   \n",
      "4  Health & Wellness  Medicines & Treatments               Essential Oils   \n",
      "\n",
      "  CATEGORY_4                                       MANUFACTURER  \\\n",
      "0        NaN                                                NaN   \n",
      "1        NaN                                                NaN   \n",
      "2        NaN                           PLACEHOLDER MANUFACTURER   \n",
      "3        NaN                                  COLGATE-PALMOLIVE   \n",
      "4        NaN  MAPLE HOLISTICS AND HONEYDEW PRODUCTS INTERCHA...   \n",
      "\n",
      "             BRAND       BARCODE  \n",
      "0              NaN  7.964944e+11  \n",
      "1              NaN  2.327801e+10  \n",
      "2          ELECSOP  4.618178e+11  \n",
      "3          COLGATE  3.500047e+10  \n",
      "4  MAPLE HOLISTICS  8.068109e+11  \n"
     ]
    }
   ],
   "source": [
    "print(products.head())"
   ]
  },
  {
   "cell_type": "code",
   "execution_count": 6,
   "id": "fa362e54",
   "metadata": {
    "scrolled": true
   },
   "outputs": [
    {
     "name": "stdout",
     "output_type": "stream",
     "text": [
      "Missing values in Users:\n",
      "ID                  0\n",
      "CREATED_DATE        0\n",
      "BIRTH_DATE       3675\n",
      "STATE            4812\n",
      "LANGUAGE        30508\n",
      "GENDER           5892\n",
      "dtype: int64\n",
      "\n",
      "Missing values in Transactions:\n",
      "RECEIPT_ID           0\n",
      "PURCHASE_DATE        0\n",
      "SCAN_DATE            0\n",
      "STORE_NAME           0\n",
      "USER_ID              0\n",
      "BARCODE           5762\n",
      "FINAL_QUANTITY       0\n",
      "FINAL_SALE           0\n",
      "dtype: int64\n",
      "\n",
      "Missing values in Products:\n",
      "CATEGORY_1         111\n",
      "CATEGORY_2        1424\n",
      "CATEGORY_3       60566\n",
      "CATEGORY_4      778093\n",
      "MANUFACTURER    226474\n",
      "BRAND           226472\n",
      "BARCODE           4025\n",
      "dtype: int64\n"
     ]
    }
   ],
   "source": [
    " #Checking for missing values\n",
    "print(\"Missing values in Users:\")\n",
    "print(users.isnull().sum())\n",
    "\n",
    "print(\"\\nMissing values in Transactions:\")\n",
    "print(transactions.isnull().sum())\n",
    "\n",
    "print(\"\\nMissing values in Products:\")\n",
    "print(products.isnull().sum())"
   ]
  },
  {
   "cell_type": "markdown",
   "id": "13098ad7",
   "metadata": {},
   "source": [
    "### USERS TABLE:"
   ]
  },
  {
   "cell_type": "code",
   "execution_count": 7,
   "id": "63fb0686",
   "metadata": {},
   "outputs": [],
   "source": [
    "users['BIRTH_DATE'] = pd.to_datetime(users['BIRTH_DATE'], errors='coerce').dt.date\n",
    "users['CREATED_DATE'] = pd.to_datetime(users['CREATED_DATE'], errors='coerce').dt.date"
   ]
  },
  {
   "cell_type": "code",
   "execution_count": 8,
   "id": "530efa92",
   "metadata": {},
   "outputs": [
    {
     "name": "stdout",
     "output_type": "stream",
     "text": [
      "['Spanish' 'English' 'Unknown']\n"
     ]
    }
   ],
   "source": [
    "# Drop rows with missing birth_date\n",
    "users = users.dropna(subset=['BIRTH_DATE'])\n",
    "\n",
    "\n",
    "# Remove leading/trailing whitespace in string columns\n",
    "users['STATE'] = users['STATE'].str.strip()\n",
    "\n",
    "# Fill missing state with 'Unknown'\n",
    "users['STATE'] = users['STATE'].fillna('Unknown')\n",
    "\n",
    "# Fill missing language and gender with 'Unknown'\n",
    "users['LANGUAGE'] = users['LANGUAGE'].fillna('Unknown')\n",
    "language_mapping = {\n",
    "    'en': 'English',\n",
    "    'es-419': 'Spanish'\n",
    "}\n",
    "\n",
    "# Apply the mapping to the LANGUAGE column\n",
    "users['LANGUAGE'] = users['LANGUAGE'].replace(language_mapping)\n",
    "print(users['LANGUAGE'].unique())  # Check unique values in the LANGUAGE column"
   ]
  },
  {
   "cell_type": "code",
   "execution_count": 9,
   "id": "c1d26d64",
   "metadata": {},
   "outputs": [
    {
     "name": "stdout",
     "output_type": "stream",
     "text": [
      "ID              0\n",
      "CREATED_DATE    0\n",
      "BIRTH_DATE      0\n",
      "STATE           0\n",
      "LANGUAGE        0\n",
      "GENDER          0\n",
      "dtype: int64\n",
      "\n",
      "\n",
      "                             ID CREATED_DATE  BIRTH_DATE STATE LANGUAGE  \\\n",
      "0      5ef3b4f17053ab141787697d   2020-06-24  2000-08-11    CA  Spanish   \n",
      "1      5ff220d383fcfc12622b96bc   2021-01-03  2001-09-24    PA  English   \n",
      "2      6477950aa55bb77a0e27ee10   2023-05-31  1994-10-28    FL  Spanish   \n",
      "4      653cf5d6a225ea102b7ecdc2   2023-10-28  1972-03-19    PA  English   \n",
      "5      5fe2b6f3ad416a1265c4ab68   2020-12-23  1999-10-27    NY  English   \n",
      "...                         ...          ...         ...   ...      ...   \n",
      "99995  61fc06d41febf771966da8fa   2022-02-03  1992-03-16    CA  English   \n",
      "99996  6391e7ef90ad5449ec5f782d   2022-12-08  1993-09-23    MO  English   \n",
      "99997  637d5efdd6f2a49c49934dcb   2022-11-22  1983-04-19    RI  English   \n",
      "99998  5f0de23b05d8a6147dc0cafa   2020-07-14  1995-06-09    DE  English   \n",
      "99999  5e7ab436905e9512ff44abc8   2020-03-25  1995-12-15    VA  Unknown   \n",
      "\n",
      "       GENDER  \n",
      "0      Female  \n",
      "1      Female  \n",
      "2      Female  \n",
      "4      Female  \n",
      "5      Female  \n",
      "...       ...  \n",
      "99995  Female  \n",
      "99996  Female  \n",
      "99997  Female  \n",
      "99998  Female  \n",
      "99999  Female  \n",
      "\n",
      "[96325 rows x 6 columns]\n"
     ]
    }
   ],
   "source": [
    "# Define the mapping dictionary\n",
    "gender_mapping = {\n",
    "    \"female\": \"Female\",\n",
    "    \"male\": \"Male\",\n",
    "    \"non_binary\": \"Non-Binary\",\n",
    "    \"Non-Binary\": \"Non-Binary\",\n",
    "    \"My gender isn't listed\": \"Unknown\",\n",
    "    \"not_listed\": \"Unknown\",\n",
    "    \"not_specified\": \"Prefer Not to Say\",\n",
    "    \"Prefer not to say\": \"Prefer Not to Say\",\n",
    "    \"prefer_not_to_say\": \"Prefer Not to Say\",\n",
    "    \"transgender\": \"Transgender\",\n",
    "    \"unknown\": \"Unknown\",\n",
    "    None: \"Unknown\"\n",
    "}\n",
    "\n",
    "# Map GENDER column using the dictionary\n",
    "users['GENDER'] = users['GENDER'].replace(gender_mapping)\n",
    "\n",
    "print(users.isnull().sum())\n",
    "print(\"\\n\")\n",
    "print(users)"
   ]
  },
  {
   "cell_type": "markdown",
   "id": "9e023aa0",
   "metadata": {},
   "source": [
    "### TRANSACTIONS:"
   ]
  },
  {
   "cell_type": "code",
   "execution_count": 10,
   "id": "ac79dd32",
   "metadata": {},
   "outputs": [],
   "source": [
    "# Calculate age\n",
    "users['AGE'] = pd.to_datetime('today').year - pd.to_datetime(users['BIRTH_DATE']).dt.year"
   ]
  },
  {
   "cell_type": "code",
   "execution_count": 11,
   "id": "99d7545f",
   "metadata": {},
   "outputs": [
    {
     "name": "stdout",
     "output_type": "stream",
     "text": [
      "Invalid date relationships:  94\n",
      "\n",
      "\n",
      "RECEIPT_ID           0\n",
      "PURCHASE_DATE        0\n",
      "SCAN_DATE            0\n",
      "STORE_NAME           0\n",
      "USER_ID              0\n",
      "BARCODE           5762\n",
      "FINAL_QUANTITY       0\n",
      "FINAL_SALE           0\n",
      "dtype: int64\n",
      "\n",
      "\n",
      "                                 RECEIPT_ID             PURCHASE_DATE  \\\n",
      "0      0000d256-4041-4a3e-adc4-5623fb6e0c99 2024-08-21 00:00:00+00:00   \n",
      "1      0001455d-7a92-4a7b-a1d2-c747af1c8fd3 2024-07-20 00:00:00+00:00   \n",
      "2      00017e0a-7851-42fb-bfab-0baa96e23586 2024-08-18 00:00:00+00:00   \n",
      "3      000239aa-3478-453d-801e-66a82e39c8af 2024-06-18 00:00:00+00:00   \n",
      "4      00026b4c-dfe8-49dd-b026-4c2f0fd5c6a1 2024-07-04 00:00:00+00:00   \n",
      "...                                     ...                       ...   \n",
      "49995  b5cd61a9-8033-4913-a5c4-fb3f65e3a321 2024-08-21 00:00:00+00:00   \n",
      "49996  e1b2f634-c9ad-4152-b662-4b22efc25862 2024-08-11 00:00:00+00:00   \n",
      "49997  b07ef8dd-e444-40a2-819b-f74a3e5f1ae7 2024-07-11 00:00:00+00:00   \n",
      "49998  42475141-bef4-4df2-aa37-72577e2512bb 2024-06-18 00:00:00+00:00   \n",
      "49999  3a179c4e-46f2-4126-b3d2-3514afc23a3e 2024-08-07 00:00:00+00:00   \n",
      "\n",
      "                             SCAN_DATE     STORE_NAME  \\\n",
      "0     2024-08-21 14:19:06.539000+00:00        WALMART   \n",
      "1     2024-07-20 09:50:24.206000+00:00           ALDI   \n",
      "2     2024-08-19 15:38:56.813000+00:00        WALMART   \n",
      "3     2024-06-19 11:03:37.468000+00:00      FOOD LION   \n",
      "4     2024-07-05 15:56:43.549000+00:00       RANDALLS   \n",
      "...                                ...            ...   \n",
      "49995 2024-08-31 14:13:08.634000+00:00         TARGET   \n",
      "49996 2024-08-11 18:15:56.736000+00:00    STOP & SHOP   \n",
      "49997 2024-07-11 08:03:25.816000+00:00        WALMART   \n",
      "49998 2024-06-18 19:57:32.211000+00:00  MARKET BASKET   \n",
      "49999 2024-08-07 15:30:07.911000+00:00        WALMART   \n",
      "\n",
      "                        USER_ID       BARCODE  FINAL_QUANTITY  FINAL_SALE  \n",
      "0      63b73a7f3d310dceeabd4758  1.530001e+10             1.0        0.00  \n",
      "1      62c08877baa38d1a1f6c211a           NaN             0.0        1.49  \n",
      "2      60842f207ac8b7729e472020  7.874223e+10             1.0        0.00  \n",
      "3      63fcd7cea4f8442c3386b589  7.833997e+11             0.0        3.49  \n",
      "4      6193231ae9b3d75037b0f928  4.790050e+10             1.0        0.00  \n",
      "...                         ...           ...             ...         ...  \n",
      "49995  6154bcf098f885648de2f299  8.523911e+10             2.0        1.18  \n",
      "49996  60aa809f188b926b2244c974  4.610040e+10             1.0        2.00  \n",
      "49997  60bd26e83dc3b13a15c5f4e7  6.466300e+11             1.0       20.96  \n",
      "49998  6169912fac47744405af62b7  4.180050e+10             1.0        3.00  \n",
      "49999  64e94d64ca929250373ef6e1  3.076607e+11             1.0        5.48  \n",
      "\n",
      "[49906 rows x 8 columns]\n",
      "0         15300014978\n",
      "1                <NA>\n",
      "2         78742229751\n",
      "3        783399746536\n",
      "4         47900501183\n",
      "             ...     \n",
      "49995     85239110669\n",
      "49996     46100400555\n",
      "49997    646630019670\n",
      "49998     41800501519\n",
      "49999    307660745853\n",
      "Name: BARCODE, Length: 49906, dtype: Int64\n",
      "Rows with invalid BARCODE:\n",
      "                                 RECEIPT_ID             PURCHASE_DATE  \\\n",
      "1      0001455d-7a92-4a7b-a1d2-c747af1c8fd3 2024-07-20 00:00:00+00:00   \n",
      "9      0010d87d-1ad2-4e5e-9a25-cec736919d15 2024-08-04 00:00:00+00:00   \n",
      "17     002ee298-d907-40ca-921a-556468571f76 2024-07-15 00:00:00+00:00   \n",
      "18     00326689-e763-4b27-9ad5-202fc93609e2 2024-06-19 00:00:00+00:00   \n",
      "60     00a9e033-e49d-45d6-990e-90631f82775e 2024-09-05 00:00:00+00:00   \n",
      "...                                     ...                       ...   \n",
      "49959  45575fc2-6ba3-4913-bdf2-05814e4309e0 2024-06-20 00:00:00+00:00   \n",
      "49960  7a36db68-c8a7-4b29-b1c2-4cb51ad9f42a 2024-08-29 00:00:00+00:00   \n",
      "49962  d7cf611f-f07d-4e3d-9a5d-aacc0d56a4a7 2024-07-21 00:00:00+00:00   \n",
      "49963  e79c254d-1bf0-4471-8e79-4f52c6b81481 2024-08-24 00:00:00+00:00   \n",
      "49994  6cdf3c1a-78b3-4fb0-85fd-52e2f5b4731c 2024-06-26 00:00:00+00:00   \n",
      "\n",
      "                             SCAN_DATE              STORE_NAME  \\\n",
      "1     2024-07-20 09:50:24.206000+00:00                    ALDI   \n",
      "9     2024-08-04 18:01:47.787000+00:00                    ALDI   \n",
      "17    2024-07-16 16:42:19.211000+00:00                    ALDI   \n",
      "18    2024-06-20 08:59:38.397000+00:00                    ALDI   \n",
      "60    2024-09-05 11:10:54.831000+00:00                    ALDI   \n",
      "...                                ...                     ...   \n",
      "49959 2024-06-20 11:56:29.486000+00:00     SUPERMERCADOS ECONO   \n",
      "49960 2024-08-29 14:39:07.868000+00:00  DOLLAR TREE STORES INC   \n",
      "49962 2024-07-21 10:31:52.403000+00:00                    ALDI   \n",
      "49963 2024-08-26 15:21:15.492000+00:00  DOLLAR TREE STORES INC   \n",
      "49994 2024-07-01 11:00:39.769000+00:00           HARRIS TEETER   \n",
      "\n",
      "                        USER_ID  BARCODE  FINAL_QUANTITY  FINAL_SALE  \n",
      "1      62c08877baa38d1a1f6c211a     <NA>             0.0        1.49  \n",
      "9      66686fc2e04f743a096ea808     <NA>             0.0        2.29  \n",
      "17     63de64b1dcb50fbd3084f142     <NA>             0.0        2.49  \n",
      "18     6158642597d737581b5d30ee     <NA>             1.0        0.00  \n",
      "60     5d4f08e962fb4a4a58574e7f     <NA>             1.0        0.00  \n",
      "...                         ...      ...             ...         ...  \n",
      "49959  618c25125e388d4f513334b9     <NA>             1.0        1.67  \n",
      "49960  665e2f887c0469953bfbdb5b     <NA>             1.0        1.25  \n",
      "49962  61a8f120f6305b3dade12c15     <NA>             1.0        1.29  \n",
      "49963  62f6799b30b23c82198fa01c     <NA>             1.0        1.25  \n",
      "49994  5de7ec93ca63cc17893cdd14     <NA>             1.0        3.00  \n",
      "\n",
      "[5762 rows x 8 columns]\n",
      "Rows remaining after cleaning BARCODE: 44144\n"
     ]
    }
   ],
   "source": [
    "# Convert PURCHASE_DATE and SCAN_DATE to datetime\n",
    "transactions['PURCHASE_DATE'] = pd.to_datetime(transactions['PURCHASE_DATE'], errors='coerce')\n",
    "transactions['SCAN_DATE'] = pd.to_datetime(transactions['SCAN_DATE'], errors='coerce')\n",
    "\n",
    "# Localize to UTC for timezone-naive columns\n",
    "transactions['PURCHASE_DATE'] = transactions['PURCHASE_DATE'].dt.tz_localize('UTC')\n",
    "transactions['SCAN_DATE'] = transactions['SCAN_DATE'].dt.tz_convert('UTC')\n",
    "\n",
    "# Compare the dates after ensuring they are in UTC\n",
    "invalid_dates = transactions[transactions['PURCHASE_DATE'] > transactions['SCAN_DATE']]\n",
    "print(\"Invalid date relationships: \", len(invalid_dates))\n",
    "\n",
    "# Drop rows with invalid dates\n",
    "\n",
    "transactions = transactions[transactions['PURCHASE_DATE'] <= transactions['SCAN_DATE']]\n",
    "\n",
    "# Replace \"zero\" with 0\n",
    "transactions['FINAL_QUANTITY'] = transactions['FINAL_QUANTITY'].replace(\"zero\", 0)\n",
    "\n",
    "# Clean FINAL_SALE column, replacing empty strings with 0\n",
    "transactions['FINAL_SALE'] = pd.to_numeric(transactions['FINAL_SALE'], errors='coerce').fillna(0)\n",
    "\n",
    "transactions['FINAL_SALE'] = pd.to_numeric(transactions['FINAL_SALE'], errors='coerce')\n",
    "transactions['FINAL_QUANTITY'] = pd.to_numeric(transactions['FINAL_QUANTITY'], errors='coerce')\n",
    "\n",
    "# Print cleaned DataFrame\n",
    "print(\"\\n\")\n",
    "print(transactions.isnull().sum())\n",
    "print(\"\\n\")\n",
    "print(transactions)\n",
    "\n",
    "#------------\n",
    "# Ensure BARCODE column is processed as integers\n",
    "transactions['BARCODE'] = transactions['BARCODE'].apply(\n",
    "    lambda x: int(float(x)) if pd.notna(x) else x\n",
    ")\n",
    "\n",
    "# Convert the column to integers to ensure no scientific notation\n",
    "transactions['BARCODE'] = transactions['BARCODE'].astype('Int64')  # Keeps NaN values as compatible type\n",
    "\n",
    "# Check the result\n",
    "print(transactions['BARCODE'])\n",
    "#--------------\n",
    "\n",
    "# Identify rows with invalid (empty or NaN) BARCODE\n",
    "invalid_barcodes = transactions[(transactions['BARCODE'] == '') | (transactions['BARCODE'].isna())]\n",
    "\n",
    "# Display rows with invalid BARCODE for verification\n",
    "print(\"Rows with invalid BARCODE:\")\n",
    "print(invalid_barcodes)\n",
    "\n",
    "# Remove rows with invalid BARCODE\n",
    "transactions = transactions[(transactions['BARCODE'] != '') & (transactions['BARCODE'].notna())]\n",
    "\n",
    "# Confirm remaining rows\n",
    "print(f\"Rows remaining after cleaning BARCODE: {transactions.shape[0]}\")"
   ]
  },
  {
   "cell_type": "code",
   "execution_count": 12,
   "id": "d93b6e0c",
   "metadata": {
    "scrolled": true
   },
   "outputs": [
    {
     "name": "stdout",
     "output_type": "stream",
     "text": [
      "Number of matching USER_IDs: 236\n",
      "Number of non-matching USER_IDs: 43908\n"
     ]
    }
   ],
   "source": [
    "transactions['USER_ID'] = transactions['USER_ID'].str.strip()\n",
    "users['ID'] = users['ID'].str.strip()\n",
    "\n",
    "# Count matching USER_IDs\n",
    "matching_count = transactions['USER_ID'].isin(users['ID']).sum()\n",
    "\n",
    "# Count non-matching USER_IDs\n",
    "non_matching_count = len(transactions) - matching_count\n",
    "\n",
    "print(f\"Number of matching USER_IDs: {matching_count}\")\n",
    "print(f\"Number of non-matching USER_IDs: {non_matching_count}\")\n",
    "\n",
    "\n",
    "# # Assign 'Unknown User' for non-matching USER_IDs\n",
    "# transactions['USER_ID'] = transactions['USER_ID'].apply(\n",
    "#     lambda x: x if x in users['ID'].values else 'unknown_user'\n",
    "# )\n",
    "\n",
    "# # Analyze transactions with 'Unknown User'\n",
    "# unknown_user_transactions = transactions[transactions['USER_ID'] == 'unknown_user']\n",
    "# print(f\"Transactions with 'unknown_user': {len(unknown_user_transactions)}\")\n"
   ]
  },
  {
   "cell_type": "markdown",
   "id": "a9f41520",
   "metadata": {},
   "source": [
    "### PRODUCTS TABLE:"
   ]
  },
  {
   "cell_type": "code",
   "execution_count": 13,
   "id": "aa81c3f7",
   "metadata": {},
   "outputs": [],
   "source": [
    "products['CATEGORY_1'] = products['CATEGORY_1'].fillna('Unknown')\n",
    "products['CATEGORY_2'] = products['CATEGORY_2'].fillna('Unknown')\n",
    "\n",
    "# Drop category_3 and category_4\n",
    "products = products.drop(columns=['CATEGORY_3', 'CATEGORY_4'])"
   ]
  },
  {
   "cell_type": "code",
   "execution_count": 14,
   "id": "5845b9e9",
   "metadata": {},
   "outputs": [
    {
     "name": "stdout",
     "output_type": "stream",
     "text": [
      "0         7.964944e+11\n",
      "1         2.327801e+10\n",
      "2         4.618178e+11\n",
      "3         3.500047e+10\n",
      "4         8.068109e+11\n",
      "              ...     \n",
      "845547    7.223016e+11\n",
      "845548    4.182082e+10\n",
      "845549    1.001672e+11\n",
      "845550    7.539076e+10\n",
      "845551    7.967933e+11\n",
      "Name: BARCODE, Length: 845552, dtype: float64\n",
      "0         796494407820\n",
      "1          23278011028\n",
      "2         461817824225\n",
      "3          35000466815\n",
      "4         806810850459\n",
      "              ...     \n",
      "845547    722301569399\n",
      "845548     41820818468\n",
      "845549    100167154940\n",
      "845550     75390755960\n",
      "845551    796793337781\n",
      "Name: BARCODE, Length: 845552, dtype: Int64\n"
     ]
    }
   ],
   "source": [
    "print(products['BARCODE'])\n",
    "# Ensure BARCODE column is processed as integers\n",
    "products['BARCODE'] = products['BARCODE'].apply(\n",
    "    lambda x: int(float(x)) if pd.notna(x) else x\n",
    ")\n",
    "\n",
    "# Convert the column to integers to ensure no scientific notation\n",
    "products['BARCODE'] = products['BARCODE'].astype('Int64')\n",
    "\n",
    "# Check the result\n",
    "print(products['BARCODE'])"
   ]
  },
  {
   "cell_type": "code",
   "execution_count": 15,
   "id": "4cf52858",
   "metadata": {},
   "outputs": [
    {
     "name": "stdout",
     "output_type": "stream",
     "text": [
      "<class 'pandas.core.frame.DataFrame'>\n",
      "Index: 96325 entries, 0 to 99999\n",
      "Data columns (total 7 columns):\n",
      " #   Column        Non-Null Count  Dtype \n",
      "---  ------        --------------  ----- \n",
      " 0   ID            96325 non-null  object\n",
      " 1   CREATED_DATE  96325 non-null  object\n",
      " 2   BIRTH_DATE    96325 non-null  object\n",
      " 3   STATE         96325 non-null  object\n",
      " 4   LANGUAGE      96325 non-null  object\n",
      " 5   GENDER        96325 non-null  object\n",
      " 6   AGE           96325 non-null  int32 \n",
      "dtypes: int32(1), object(6)\n",
      "memory usage: 5.5+ MB\n",
      "None\n",
      "\n",
      "\n",
      "<class 'pandas.core.frame.DataFrame'>\n",
      "Index: 44144 entries, 0 to 49999\n",
      "Data columns (total 8 columns):\n",
      " #   Column          Non-Null Count  Dtype              \n",
      "---  ------          --------------  -----              \n",
      " 0   RECEIPT_ID      44144 non-null  object             \n",
      " 1   PURCHASE_DATE   44144 non-null  datetime64[ns, UTC]\n",
      " 2   SCAN_DATE       44144 non-null  datetime64[ns, UTC]\n",
      " 3   STORE_NAME      44144 non-null  object             \n",
      " 4   USER_ID         44144 non-null  object             \n",
      " 5   BARCODE         44144 non-null  Int64              \n",
      " 6   FINAL_QUANTITY  44144 non-null  float64            \n",
      " 7   FINAL_SALE      44144 non-null  float64            \n",
      "dtypes: Int64(1), datetime64[ns, UTC](2), float64(2), object(3)\n",
      "memory usage: 3.1+ MB\n",
      "None\n",
      "\n",
      "\n",
      "<class 'pandas.core.frame.DataFrame'>\n",
      "RangeIndex: 845552 entries, 0 to 845551\n",
      "Data columns (total 5 columns):\n",
      " #   Column        Non-Null Count   Dtype \n",
      "---  ------        --------------   ----- \n",
      " 0   CATEGORY_1    845552 non-null  object\n",
      " 1   CATEGORY_2    845552 non-null  object\n",
      " 2   MANUFACTURER  619078 non-null  object\n",
      " 3   BRAND         619080 non-null  object\n",
      " 4   BARCODE       841527 non-null  Int64 \n",
      "dtypes: Int64(1), object(4)\n",
      "memory usage: 33.1+ MB\n",
      "None\n"
     ]
    }
   ],
   "source": [
    "print(users.info())\n",
    "print(\"\\n\")\n",
    "print(transactions.info())\n",
    "print(\"\\n\")\n",
    "print(products.info())"
   ]
  },
  {
   "cell_type": "markdown",
   "id": "ae1913e8",
   "metadata": {},
   "source": [
    "## "
   ]
  },
  {
   "cell_type": "code",
   "execution_count": 16,
   "id": "466f78e4",
   "metadata": {},
   "outputs": [
    {
     "name": "stdout",
     "output_type": "stream",
     "text": [
      "                                 RECEIPT_ID             PURCHASE_DATE  \\\n",
      "0      0000d256-4041-4a3e-adc4-5623fb6e0c99 2024-08-21 00:00:00+00:00   \n",
      "2      00017e0a-7851-42fb-bfab-0baa96e23586 2024-08-18 00:00:00+00:00   \n",
      "3      000239aa-3478-453d-801e-66a82e39c8af 2024-06-18 00:00:00+00:00   \n",
      "4      00026b4c-dfe8-49dd-b026-4c2f0fd5c6a1 2024-07-04 00:00:00+00:00   \n",
      "5      0002d8cd-1701-4cdd-a524-b70402e2dbc0 2024-06-24 00:00:00+00:00   \n",
      "...                                     ...                       ...   \n",
      "49995  b5cd61a9-8033-4913-a5c4-fb3f65e3a321 2024-08-21 00:00:00+00:00   \n",
      "49996  e1b2f634-c9ad-4152-b662-4b22efc25862 2024-08-11 00:00:00+00:00   \n",
      "49997  b07ef8dd-e444-40a2-819b-f74a3e5f1ae7 2024-07-11 00:00:00+00:00   \n",
      "49998  42475141-bef4-4df2-aa37-72577e2512bb 2024-06-18 00:00:00+00:00   \n",
      "49999  3a179c4e-46f2-4126-b3d2-3514afc23a3e 2024-08-07 00:00:00+00:00   \n",
      "\n",
      "                             SCAN_DATE     STORE_NAME  \\\n",
      "0     2024-08-21 14:19:06.539000+00:00        WALMART   \n",
      "2     2024-08-19 15:38:56.813000+00:00        WALMART   \n",
      "3     2024-06-19 11:03:37.468000+00:00      FOOD LION   \n",
      "4     2024-07-05 15:56:43.549000+00:00       RANDALLS   \n",
      "5     2024-06-24 19:44:54.247000+00:00        WALMART   \n",
      "...                                ...            ...   \n",
      "49995 2024-08-31 14:13:08.634000+00:00         TARGET   \n",
      "49996 2024-08-11 18:15:56.736000+00:00    STOP & SHOP   \n",
      "49997 2024-07-11 08:03:25.816000+00:00        WALMART   \n",
      "49998 2024-06-18 19:57:32.211000+00:00  MARKET BASKET   \n",
      "49999 2024-08-07 15:30:07.911000+00:00        WALMART   \n",
      "\n",
      "                        USER_ID       BARCODE  FINAL_QUANTITY  FINAL_SALE  \n",
      "0      63b73a7f3d310dceeabd4758   15300014978             1.0        0.00  \n",
      "2      60842f207ac8b7729e472020   78742229751             1.0        0.00  \n",
      "3      63fcd7cea4f8442c3386b589  783399746536             0.0        3.49  \n",
      "4      6193231ae9b3d75037b0f928   47900501183             1.0        0.00  \n",
      "5      5dcc6c510040a012b8e76924  681131411295             0.0        1.46  \n",
      "...                         ...           ...             ...         ...  \n",
      "49995  6154bcf098f885648de2f299   85239110669             2.0        1.18  \n",
      "49996  60aa809f188b926b2244c974   46100400555             1.0        2.00  \n",
      "49997  60bd26e83dc3b13a15c5f4e7  646630019670             1.0       20.96  \n",
      "49998  6169912fac47744405af62b7   41800501519             1.0        3.00  \n",
      "49999  64e94d64ca929250373ef6e1  307660745853             1.0        5.48  \n",
      "\n",
      "[44144 rows x 8 columns]\n"
     ]
    }
   ],
   "source": [
    "print(transactions)"
   ]
  },
  {
   "cell_type": "code",
   "execution_count": 17,
   "id": "4dc944ad",
   "metadata": {
    "scrolled": true
   },
   "outputs": [
    {
     "name": "stdout",
     "output_type": "stream",
     "text": [
      "Invalid user_ids in Transactions: 43908\n"
     ]
    }
   ],
   "source": [
    "# Check for invalid user_ids\n",
    "invalid_user_ids = transactions[~transactions['USER_ID'].isin(users['ID'])]\n",
    "print(\"Invalid user_ids in Transactions:\", len(invalid_user_ids))"
   ]
  },
  {
   "cell_type": "code",
   "execution_count": 18,
   "id": "d22f47bb",
   "metadata": {},
   "outputs": [
    {
     "name": "stdout",
     "output_type": "stream",
     "text": [
      "Invalid barcodes in Transactions: 19382\n"
     ]
    }
   ],
   "source": [
    "# Check for invalid barcodes\n",
    "invalid_barcodes = transactions[~transactions['BARCODE'].isin(products['BARCODE'])]\n",
    "print(\"Invalid barcodes in Transactions:\", len(invalid_barcodes))"
   ]
  },
  {
   "cell_type": "markdown",
   "id": "e7f940e3",
   "metadata": {},
   "source": [
    "##"
   ]
  },
  {
   "cell_type": "code",
   "execution_count": 19,
   "id": "10a2b89a",
   "metadata": {
    "scrolled": false
   },
   "outputs": [
    {
     "name": "stdout",
     "output_type": "stream",
     "text": [
      "<class 'pandas.core.frame.DataFrame'>\n",
      "RangeIndex: 112278 entries, 0 to 112277\n",
      "Data columns (total 10 columns):\n",
      " #   Column          Non-Null Count   Dtype  \n",
      "---  ------          --------------   -----  \n",
      " 0   ID              112278 non-null  object \n",
      " 1   CREATED_DATE    96325 non-null   object \n",
      " 2   BIRTH_DATE      96325 non-null   object \n",
      " 3   STATE           96325 non-null   object \n",
      " 4   LANGUAGE        96325 non-null   object \n",
      " 5   GENDER          96325 non-null   object \n",
      " 6   AGE             96325 non-null   float64\n",
      " 7   USER_ID         16037 non-null   object \n",
      " 8   TOTAL_SPEND     16037 non-null   float64\n",
      " 9   TOTAL_QUANTITY  16037 non-null   float64\n",
      "dtypes: float64(3), object(7)\n",
      "memory usage: 8.6+ MB\n",
      "None\n",
      "<class 'pandas.core.frame.DataFrame'>\n",
      "RangeIndex: 112278 entries, 0 to 112277\n",
      "Data columns (total 9 columns):\n",
      " #   Column          Non-Null Count   Dtype  \n",
      "---  ------          --------------   -----  \n",
      " 0   ID              112278 non-null  object \n",
      " 1   CREATED_DATE    96325 non-null   object \n",
      " 2   BIRTH_DATE      96325 non-null   object \n",
      " 3   STATE           96325 non-null   object \n",
      " 4   LANGUAGE        96325 non-null   object \n",
      " 5   GENDER          96325 non-null   object \n",
      " 6   AGE             96325 non-null   float64\n",
      " 7   TOTAL_SPEND     16037 non-null   float64\n",
      " 8   TOTAL_QUANTITY  16037 non-null   float64\n",
      "dtypes: float64(3), object(6)\n",
      "memory usage: 7.7+ MB\n",
      "None\n",
      "                         ID CREATED_DATE  BIRTH_DATE STATE LANGUAGE  GENDER  \\\n",
      "0  5ef3b4f17053ab141787697d   2020-06-24  2000-08-11    CA  Spanish  Female   \n",
      "1  5ff220d383fcfc12622b96bc   2021-01-03  2001-09-24    PA  English  Female   \n",
      "2  6477950aa55bb77a0e27ee10   2023-05-31  1994-10-28    FL  Spanish  Female   \n",
      "3  653cf5d6a225ea102b7ecdc2   2023-10-28  1972-03-19    PA  English  Female   \n",
      "4  5fe2b6f3ad416a1265c4ab68   2020-12-23  1999-10-27    NY  English  Female   \n",
      "\n",
      "    AGE  TOTAL_SPEND  TOTAL_QUANTITY  \n",
      "0  25.0          0.0             NaN  \n",
      "1  24.0          0.0             NaN  \n",
      "2  31.0          0.0             NaN  \n",
      "3  53.0          0.0             NaN  \n",
      "4  26.0          0.0             NaN  \n"
     ]
    }
   ],
   "source": [
    "#-----------\n",
    "# Aggregate total spend from transactions\n",
    "user_sales = transactions.groupby('USER_ID').agg({\n",
    "    'FINAL_SALE': 'sum', \n",
    "    'FINAL_QUANTITY': 'sum'\n",
    "}).reset_index()\n",
    "user_sales.rename(columns={'FINAL_SALE': 'TOTAL_SPEND', 'FINAL_QUANTITY': 'TOTAL_QUANTITY'}, inplace=True)\n",
    "\n",
    "# Perform an outer join\n",
    "new_users = pd.merge(users, user_sales, left_on='ID', right_on='USER_ID', how='outer')\n",
    "\n",
    "# Fill missing 'ID' with 'USER_ID'\n",
    "new_users['ID'] = new_users['ID'].fillna(new_users['USER_ID'])\n",
    "\n",
    "# Drop the redundant USER_ID column\n",
    "print(new_users.info())\n",
    "new_users.drop(columns=['USER_ID'], inplace=True)\n",
    "print(new_users.info())\n",
    "# Fill missing TOTAL_SPEND with 0\n",
    "new_users['TOTAL_SPEND'] = new_users['TOTAL_SPEND'].fillna(0).round(2)\n",
    "\n",
    "\n",
    "# Display the updated DataFrame\n",
    "print(new_users.head())"
   ]
  },
  {
   "cell_type": "code",
   "execution_count": 20,
   "id": "bcffc0f8",
   "metadata": {
    "scrolled": true
   },
   "outputs": [
    {
     "name": "stdout",
     "output_type": "stream",
     "text": [
      "<class 'pandas.core.frame.DataFrame'>\n",
      "RangeIndex: 16037 entries, 0 to 16036\n",
      "Data columns (total 9 columns):\n",
      " #   Column          Non-Null Count  Dtype  \n",
      "---  ------          --------------  -----  \n",
      " 0   ID              84 non-null     object \n",
      " 1   CREATED_DATE    84 non-null     object \n",
      " 2   BIRTH_DATE      84 non-null     object \n",
      " 3   STATE           84 non-null     object \n",
      " 4   LANGUAGE        84 non-null     object \n",
      " 5   GENDER          84 non-null     object \n",
      " 6   AGE             84 non-null     float64\n",
      " 7   TOTAL_SPEND     16037 non-null  float64\n",
      " 8   TOTAL_QUANTITY  16037 non-null  float64\n",
      "dtypes: float64(3), object(6)\n",
      "memory usage: 1.1+ MB\n",
      "None\n"
     ]
    }
   ],
   "source": [
    "users_spend = pd.merge(user_sales, users, left_on='USER_ID', right_on='ID', how='left')\n",
    "\n",
    "users_spend.drop(columns=['USER_ID'], inplace=True)\n",
    "columns_order = [col for col in users_spend.columns if col not in ['TOTAL_SPEND', 'TOTAL_QUANTITY']] + ['TOTAL_SPEND', 'TOTAL_QUANTITY']\n",
    "users_spend = users_spend[columns_order]\n",
    "print(users_spend.info())\n",
    "# Fill missing TOTAL_SPEND with 0\n",
    "users_spend['TOTAL_SPEND'] = users_spend['TOTAL_SPEND'].fillna(0).round(2)\n",
    "users_spend.to_csv(\"users_spend.csv\", index=False)"
   ]
  },
  {
   "cell_type": "code",
   "execution_count": 21,
   "id": "4fe46044",
   "metadata": {},
   "outputs": [
    {
     "name": "stdout",
     "output_type": "stream",
     "text": [
      "Cleaned data saved successfully!\n"
     ]
    }
   ],
   "source": [
    "users.to_csv(\"cleaned_users.csv\", index=False)\n",
    "transactions.to_csv(\"cleaned_transactions.csv\", index=False)\n",
    "products.to_csv(\"cleaned_products.csv\", index=False)\n",
    "new_users.to_csv(\"new_users.csv\", index=False)\n",
    "\n",
    "\n",
    "print(\"Cleaned data saved successfully!\")"
   ]
  }
 ],
 "metadata": {
  "kernelspec": {
   "display_name": "Python 3 (ipykernel)",
   "language": "python",
   "name": "python3"
  },
  "language_info": {
   "codemirror_mode": {
    "name": "ipython",
    "version": 3
   },
   "file_extension": ".py",
   "mimetype": "text/x-python",
   "name": "python",
   "nbconvert_exporter": "python",
   "pygments_lexer": "ipython3",
   "version": "3.11.5"
  }
 },
 "nbformat": 4,
 "nbformat_minor": 5
}
